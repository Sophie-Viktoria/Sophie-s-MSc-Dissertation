{
 "cells": [
  {
   "cell_type": "code",
   "execution_count": 3,
   "metadata": {},
   "outputs": [],
   "source": [
    "'''Import packages for loading data, analysing, and plotting'''\n",
    "\n",
    "import xarray as xr\n",
    "import matplotlib.pyplot as plt\n",
    "import matplotlib as mpl\n",
    "import numpy as np\n",
    "import pandas as pd\n",
    "import descartes\n",
    "import geopandas as gpd\n",
    "from shapely.geometry import Point, Polygon\n",
    "\n",
    "\n",
    "%matplotlib inline\n",
    "import cartopy\n",
    "import cartopy.crs as ccrs\n",
    "import matplotlib\n",
    "from netCDF4 import Dataset\n",
    "from mpl_toolkits.axes_grid1 import make_axes_locatable\n",
    "import numpy.ma as ma\n",
    "\n",
    "\n",
    "import os\n",
    "import matplotlib.colors as colors\n",
    "\n",
    "import scipy\n",
    "from cartopy.util import add_cyclic_point\n",
    "import matplotlib.ticker as mticker\n",
    "from cartopy.mpl.gridliner import LONGITUDE_FORMATTER, LATITUDE_FORMATTER"
   ]
  },
  {
   "cell_type": "code",
   "execution_count": 4,
   "metadata": {},
   "outputs": [
    {
     "data": {
      "text/plain": [
       "'/Users/sophiesax/OneDrive/Desktop/UCL/Dissertation'"
      ]
     },
     "execution_count": 4,
     "metadata": {},
     "output_type": "execute_result"
    }
   ],
   "source": [
    "os.getcwd()"
   ]
  },
  {
   "cell_type": "code",
   "execution_count": 5,
   "metadata": {},
   "outputs": [],
   "source": [
    "os.chdir(\"/Users/sophiesax/Documents\")"
   ]
  },
  {
   "cell_type": "code",
   "execution_count": 6,
   "metadata": {},
   "outputs": [],
   "source": [
    "core_location = np.loadtxt(fname = 'core_locations.csv', delimiter = ',', dtype = 'str')"
   ]
  },
  {
   "cell_type": "code",
   "execution_count": 7,
   "metadata": {},
   "outputs": [
    {
     "name": "stdout",
     "output_type": "stream",
     "text": [
      "[['\\ufeffCore' 'Latitude' 'Longitude']\n",
      " ['U1304' '53' '-33.529']\n",
      " ['ODP1057' '32.02886111' '-76.07922222']\n",
      " ['ODP1059' '31.67433' '-75.41877']\n",
      " ['ODP1060' '30.75994' '-74.4665']\n",
      " ['ODP1061' '29.975389' '-73.599861']\n",
      " ['MD95-2040' '40.581833' '-9.861167']\n",
      " ['OMII-9K' '40.583' '-9.866666667']\n",
      " ['NEAP-18K' '52.767' '-30.3447']\n",
      " ['U1308' '49.87776' '-24.23811']\n",
      " ['MD03-2664' '57.439' '-48.6058']\n",
      " ['CH69-K09' '41.76' '-47.35']\n",
      " ['MD95-2042' '37.8' '-10.166666']\n",
      " ['ODP980' '55.485' '-14.70167']\n",
      " ['EW9302-JPC8' '61' '-25']\n",
      " ['KNR140-37JPC' '31.68333' '-75.41667']\n",
      " ['MD01-2444' '37.566666' '-10.15']\n",
      " ['MD04-2845' '45.35' '-5.216667']]\n"
     ]
    }
   ],
   "source": [
    "print(core_location)"
   ]
  },
  {
   "cell_type": "code",
   "execution_count": 8,
   "metadata": {},
   "outputs": [],
   "source": [
    "core_locations = pd.DataFrame(np.array([['U1304', 53, -33.529], ['ODP1057', 32.02886111, -76.07922222], ['ODP1059', 31.67433, -75.41877],\n",
    "                   ['ODP1060', 30.75994, -74.4665], ['ODP1061', 29.975389, -73.599861], ['MD95-2040', 40.581833, -9.861167],\n",
    "                   ['OMII-9K', 40.583, -9.866666667], ['NEAP-18K', 52.767, -30.3447], ['U1308', 49.87776, -24.23811],\n",
    "                   ['MD03-2664', 57.439, -48.6058], ['CH69-K09', 41.76, -47.35], ['MD95-2042', 37.8, -10.16666],\n",
    "                   ['ODP980', 55.485, -14.7016], ['EW9302-JPC8', 61, -25], ['KNR140-JPC37', 31.68333, -75.41667],\n",
    "                   ['MD01-2444', 37.566666, -10.15], ['MD04-2845', 45.35, -5.216667]]), columns=['Core', 'Latitude', 'Longitude'])"
   ]
  },
  {
   "cell_type": "code",
   "execution_count": 9,
   "metadata": {},
   "outputs": [
    {
     "name": "stdout",
     "output_type": "stream",
     "text": [
      "            Core     Latitude     Longitude\n",
      "0          U1304           53       -33.529\n",
      "1        ODP1057  32.02886111  -76.07922222\n",
      "2        ODP1059     31.67433     -75.41877\n",
      "3        ODP1060     30.75994      -74.4665\n",
      "4        ODP1061    29.975389    -73.599861\n",
      "5      MD95-2040    40.581833     -9.861167\n",
      "6        OMII-9K       40.583  -9.866666667\n",
      "7       NEAP-18K       52.767      -30.3447\n",
      "8          U1308     49.87776     -24.23811\n",
      "9      MD03-2664       57.439      -48.6058\n",
      "10      CH69-K09        41.76        -47.35\n",
      "11     MD95-2042         37.8     -10.16666\n",
      "12        ODP980       55.485      -14.7016\n",
      "13   EW9302-JPC8           61           -25\n",
      "14  KNR140-JPC37     31.68333     -75.41667\n",
      "15     MD01-2444    37.566666        -10.15\n",
      "16     MD04-2845        45.35     -5.216667\n"
     ]
    }
   ],
   "source": [
    "print(core_locations)"
   ]
  },
  {
   "cell_type": "code",
   "execution_count": 10,
   "metadata": {},
   "outputs": [
    {
     "ename": "TypeError",
     "evalue": "no numeric data to plot",
     "output_type": "error",
     "traceback": [
      "\u001b[0;31m---------------------------------------------------------------------------\u001b[0m",
      "\u001b[0;31mTypeError\u001b[0m                                 Traceback (most recent call last)",
      "\u001b[0;32m<ipython-input-10-860f398b38f6>\u001b[0m in \u001b[0;36m<module>\u001b[0;34m\u001b[0m\n\u001b[0;32m----> 1\u001b[0;31m \u001b[0mcore_locations\u001b[0m\u001b[0;34m.\u001b[0m\u001b[0mplot\u001b[0m\u001b[0;34m(\u001b[0m\u001b[0;34m'Longitude'\u001b[0m\u001b[0;34m,\u001b[0m \u001b[0;34m'Latitude'\u001b[0m\u001b[0;34m)\u001b[0m\u001b[0;34m\u001b[0m\u001b[0;34m\u001b[0m\u001b[0m\n\u001b[0m",
      "\u001b[0;32m~/anaconda3/lib/python3.8/site-packages/pandas/plotting/_core.py\u001b[0m in \u001b[0;36m__call__\u001b[0;34m(self, *args, **kwargs)\u001b[0m\n\u001b[1;32m    845\u001b[0m                     \u001b[0mdata\u001b[0m\u001b[0;34m.\u001b[0m\u001b[0mcolumns\u001b[0m \u001b[0;34m=\u001b[0m \u001b[0mlabel_name\u001b[0m\u001b[0;34m\u001b[0m\u001b[0;34m\u001b[0m\u001b[0m\n\u001b[1;32m    846\u001b[0m \u001b[0;34m\u001b[0m\u001b[0m\n\u001b[0;32m--> 847\u001b[0;31m         \u001b[0;32mreturn\u001b[0m \u001b[0mplot_backend\u001b[0m\u001b[0;34m.\u001b[0m\u001b[0mplot\u001b[0m\u001b[0;34m(\u001b[0m\u001b[0mdata\u001b[0m\u001b[0;34m,\u001b[0m \u001b[0mkind\u001b[0m\u001b[0;34m=\u001b[0m\u001b[0mkind\u001b[0m\u001b[0;34m,\u001b[0m \u001b[0;34m**\u001b[0m\u001b[0mkwargs\u001b[0m\u001b[0;34m)\u001b[0m\u001b[0;34m\u001b[0m\u001b[0;34m\u001b[0m\u001b[0m\n\u001b[0m\u001b[1;32m    848\u001b[0m \u001b[0;34m\u001b[0m\u001b[0m\n\u001b[1;32m    849\u001b[0m     \u001b[0m__call__\u001b[0m\u001b[0;34m.\u001b[0m\u001b[0m__doc__\u001b[0m \u001b[0;34m=\u001b[0m \u001b[0m__doc__\u001b[0m\u001b[0;34m\u001b[0m\u001b[0;34m\u001b[0m\u001b[0m\n",
      "\u001b[0;32m~/anaconda3/lib/python3.8/site-packages/pandas/plotting/_matplotlib/__init__.py\u001b[0m in \u001b[0;36mplot\u001b[0;34m(data, kind, **kwargs)\u001b[0m\n\u001b[1;32m     59\u001b[0m             \u001b[0mkwargs\u001b[0m\u001b[0;34m[\u001b[0m\u001b[0;34m\"ax\"\u001b[0m\u001b[0;34m]\u001b[0m \u001b[0;34m=\u001b[0m \u001b[0mgetattr\u001b[0m\u001b[0;34m(\u001b[0m\u001b[0max\u001b[0m\u001b[0;34m,\u001b[0m \u001b[0;34m\"left_ax\"\u001b[0m\u001b[0;34m,\u001b[0m \u001b[0max\u001b[0m\u001b[0;34m)\u001b[0m\u001b[0;34m\u001b[0m\u001b[0;34m\u001b[0m\u001b[0m\n\u001b[1;32m     60\u001b[0m     \u001b[0mplot_obj\u001b[0m \u001b[0;34m=\u001b[0m \u001b[0mPLOT_CLASSES\u001b[0m\u001b[0;34m[\u001b[0m\u001b[0mkind\u001b[0m\u001b[0;34m]\u001b[0m\u001b[0;34m(\u001b[0m\u001b[0mdata\u001b[0m\u001b[0;34m,\u001b[0m \u001b[0;34m**\u001b[0m\u001b[0mkwargs\u001b[0m\u001b[0;34m)\u001b[0m\u001b[0;34m\u001b[0m\u001b[0;34m\u001b[0m\u001b[0m\n\u001b[0;32m---> 61\u001b[0;31m     \u001b[0mplot_obj\u001b[0m\u001b[0;34m.\u001b[0m\u001b[0mgenerate\u001b[0m\u001b[0;34m(\u001b[0m\u001b[0;34m)\u001b[0m\u001b[0;34m\u001b[0m\u001b[0;34m\u001b[0m\u001b[0m\n\u001b[0m\u001b[1;32m     62\u001b[0m     \u001b[0mplot_obj\u001b[0m\u001b[0;34m.\u001b[0m\u001b[0mdraw\u001b[0m\u001b[0;34m(\u001b[0m\u001b[0;34m)\u001b[0m\u001b[0;34m\u001b[0m\u001b[0;34m\u001b[0m\u001b[0m\n\u001b[1;32m     63\u001b[0m     \u001b[0;32mreturn\u001b[0m \u001b[0mplot_obj\u001b[0m\u001b[0;34m.\u001b[0m\u001b[0mresult\u001b[0m\u001b[0;34m\u001b[0m\u001b[0;34m\u001b[0m\u001b[0m\n",
      "\u001b[0;32m~/anaconda3/lib/python3.8/site-packages/pandas/plotting/_matplotlib/core.py\u001b[0m in \u001b[0;36mgenerate\u001b[0;34m(self)\u001b[0m\n\u001b[1;32m    259\u001b[0m     \u001b[0;32mdef\u001b[0m \u001b[0mgenerate\u001b[0m\u001b[0;34m(\u001b[0m\u001b[0mself\u001b[0m\u001b[0;34m)\u001b[0m\u001b[0;34m:\u001b[0m\u001b[0;34m\u001b[0m\u001b[0;34m\u001b[0m\u001b[0m\n\u001b[1;32m    260\u001b[0m         \u001b[0mself\u001b[0m\u001b[0;34m.\u001b[0m\u001b[0m_args_adjust\u001b[0m\u001b[0;34m(\u001b[0m\u001b[0;34m)\u001b[0m\u001b[0;34m\u001b[0m\u001b[0;34m\u001b[0m\u001b[0m\n\u001b[0;32m--> 261\u001b[0;31m         \u001b[0mself\u001b[0m\u001b[0;34m.\u001b[0m\u001b[0m_compute_plot_data\u001b[0m\u001b[0;34m(\u001b[0m\u001b[0;34m)\u001b[0m\u001b[0;34m\u001b[0m\u001b[0;34m\u001b[0m\u001b[0m\n\u001b[0m\u001b[1;32m    262\u001b[0m         \u001b[0mself\u001b[0m\u001b[0;34m.\u001b[0m\u001b[0m_setup_subplots\u001b[0m\u001b[0;34m(\u001b[0m\u001b[0;34m)\u001b[0m\u001b[0;34m\u001b[0m\u001b[0;34m\u001b[0m\u001b[0m\n\u001b[1;32m    263\u001b[0m         \u001b[0mself\u001b[0m\u001b[0;34m.\u001b[0m\u001b[0m_make_plot\u001b[0m\u001b[0;34m(\u001b[0m\u001b[0;34m)\u001b[0m\u001b[0;34m\u001b[0m\u001b[0;34m\u001b[0m\u001b[0m\n",
      "\u001b[0;32m~/anaconda3/lib/python3.8/site-packages/pandas/plotting/_matplotlib/core.py\u001b[0m in \u001b[0;36m_compute_plot_data\u001b[0;34m(self)\u001b[0m\n\u001b[1;32m    408\u001b[0m         \u001b[0;31m# no non-numeric frames or series allowed\u001b[0m\u001b[0;34m\u001b[0m\u001b[0;34m\u001b[0m\u001b[0;34m\u001b[0m\u001b[0m\n\u001b[1;32m    409\u001b[0m         \u001b[0;32mif\u001b[0m \u001b[0mis_empty\u001b[0m\u001b[0;34m:\u001b[0m\u001b[0;34m\u001b[0m\u001b[0;34m\u001b[0m\u001b[0m\n\u001b[0;32m--> 410\u001b[0;31m             \u001b[0;32mraise\u001b[0m \u001b[0mTypeError\u001b[0m\u001b[0;34m(\u001b[0m\u001b[0;34m\"no numeric data to plot\"\u001b[0m\u001b[0;34m)\u001b[0m\u001b[0;34m\u001b[0m\u001b[0;34m\u001b[0m\u001b[0m\n\u001b[0m\u001b[1;32m    411\u001b[0m \u001b[0;34m\u001b[0m\u001b[0m\n\u001b[1;32m    412\u001b[0m         \u001b[0;31m# GH25587: cast ExtensionArray of pandas (IntegerArray, etc.) to\u001b[0m\u001b[0;34m\u001b[0m\u001b[0;34m\u001b[0m\u001b[0;34m\u001b[0m\u001b[0m\n",
      "\u001b[0;31mTypeError\u001b[0m: no numeric data to plot"
     ]
    }
   ],
   "source": [
    "core_locations.plot('Longitude', 'Latitude')"
   ]
  },
  {
   "cell_type": "code",
   "execution_count": 11,
   "metadata": {},
   "outputs": [],
   "source": [
    "cores = pd.read_csv('core_locations.csv')"
   ]
  },
  {
   "cell_type": "code",
   "execution_count": 12,
   "metadata": {
    "scrolled": true
   },
   "outputs": [
    {
     "data": {
      "text/html": [
       "<div>\n",
       "<style scoped>\n",
       "    .dataframe tbody tr th:only-of-type {\n",
       "        vertical-align: middle;\n",
       "    }\n",
       "\n",
       "    .dataframe tbody tr th {\n",
       "        vertical-align: top;\n",
       "    }\n",
       "\n",
       "    .dataframe thead th {\n",
       "        text-align: right;\n",
       "    }\n",
       "</style>\n",
       "<table border=\"1\" class=\"dataframe\">\n",
       "  <thead>\n",
       "    <tr style=\"text-align: right;\">\n",
       "      <th></th>\n",
       "      <th>Core</th>\n",
       "      <th>Latitude</th>\n",
       "      <th>Longitude</th>\n",
       "    </tr>\n",
       "  </thead>\n",
       "  <tbody>\n",
       "    <tr>\n",
       "      <th>0</th>\n",
       "      <td>U1304</td>\n",
       "      <td>53.000000</td>\n",
       "      <td>-33.529000</td>\n",
       "    </tr>\n",
       "    <tr>\n",
       "      <th>1</th>\n",
       "      <td>ODP1057</td>\n",
       "      <td>32.028861</td>\n",
       "      <td>-76.079222</td>\n",
       "    </tr>\n",
       "    <tr>\n",
       "      <th>2</th>\n",
       "      <td>ODP1059</td>\n",
       "      <td>31.674330</td>\n",
       "      <td>-75.418770</td>\n",
       "    </tr>\n",
       "    <tr>\n",
       "      <th>3</th>\n",
       "      <td>ODP1060</td>\n",
       "      <td>30.759940</td>\n",
       "      <td>-74.466500</td>\n",
       "    </tr>\n",
       "    <tr>\n",
       "      <th>4</th>\n",
       "      <td>ODP1061</td>\n",
       "      <td>29.975389</td>\n",
       "      <td>-73.599861</td>\n",
       "    </tr>\n",
       "  </tbody>\n",
       "</table>\n",
       "</div>"
      ],
      "text/plain": [
       "      Core   Latitude  Longitude\n",
       "0    U1304  53.000000 -33.529000\n",
       "1  ODP1057  32.028861 -76.079222\n",
       "2  ODP1059  31.674330 -75.418770\n",
       "3  ODP1060  30.759940 -74.466500\n",
       "4  ODP1061  29.975389 -73.599861"
      ]
     },
     "execution_count": 12,
     "metadata": {},
     "output_type": "execute_result"
    }
   ],
   "source": [
    "cores.head()"
   ]
  },
  {
   "cell_type": "code",
   "execution_count": 13,
   "metadata": {
    "scrolled": false
   },
   "outputs": [
    {
     "name": "stdout",
     "output_type": "stream",
     "text": [
      "            Core   Latitude  Longitude\n",
      "0          U1304  53.000000 -33.529000\n",
      "1        ODP1057  32.028861 -76.079222\n",
      "2        ODP1059  31.674330 -75.418770\n",
      "3        ODP1060  30.759940 -74.466500\n",
      "4        ODP1061  29.975389 -73.599861\n",
      "5      MD95-2040  40.581833  -9.861167\n",
      "6        OMII-9K  40.583000  -9.866667\n",
      "7       NEAP-18K  52.767000 -30.344700\n",
      "8          U1308  49.877760 -24.238110\n",
      "9      MD03-2664  57.439000 -48.605800\n",
      "10      CH69-K09  41.760000 -47.350000\n",
      "11     MD95-2042  37.800000 -10.166666\n",
      "12        ODP980  55.485000 -14.701670\n",
      "13   EW9302-JPC8  61.000000 -25.000000\n",
      "14  KNR140-37JPC  31.683330 -75.416670\n",
      "15     MD01-2444  37.566666 -10.150000\n",
      "16     MD04-2845  45.350000  -5.216667\n"
     ]
    }
   ],
   "source": [
    "print(cores)"
   ]
  },
  {
   "cell_type": "code",
   "execution_count": 33,
   "metadata": {},
   "outputs": [
    {
     "name": "stdout",
     "output_type": "stream",
     "text": [
      "    Longitude   Latitude          Core\n",
      "0  -33.529000  53.000000         U1304\n",
      "1  -76.079222  32.028861       ODP1057\n",
      "2  -75.418770  31.674330       ODP1059\n",
      "3  -74.466500  30.759940       ODP1060\n",
      "4  -73.599861  29.975389       ODP1061\n",
      "5   -9.861167  40.581833     MD95-2040\n",
      "6   -9.866667  40.583000       OMII-9K\n",
      "7  -30.344700  52.767000      NEAP-18K\n",
      "8  -24.238110  49.877760         U1308\n",
      "9  -48.605800  57.439000     MD03-2664\n",
      "10 -47.350000  41.760000      CH69-K09\n",
      "11 -10.166666  37.800000     MD95-2042\n",
      "12 -14.701670  55.485000        ODP980\n",
      "13 -25.000000  61.000000   EW9302-JPC8\n",
      "14 -75.416670  31.683330  KNR140-37JPC\n",
      "15 -10.150000  37.566666     MD01-2444\n",
      "16  -5.216667  45.350000     MD04-2845\n"
     ]
    }
   ],
   "source": [
    "Latitude = cores['Latitude']\n",
    "Longitude = cores['Longitude']\n",
    "Cores = cores[['Longitude','Latitude', 'Core']]\n",
    "\n",
    "print(Cores)"
   ]
  },
  {
   "cell_type": "code",
   "execution_count": 47,
   "metadata": {
    "scrolled": false
   },
   "outputs": [
    {
     "data": {
      "image/png": "[encoded data removed]",
      "text/plain": [
       "<Figure size 576x504 with 1 Axes>"
      ]
     },
     "metadata": {
      "needs_background": "light"
     },
     "output_type": "display_data"
    }
   ],
   "source": [
    "import cartopy.feature as cfeature\n",
    "\n",
    "\n",
    "# plot core locations\n",
    "\n",
    "BBox = (-100, 10, 20, 80)\n",
    "\n",
    "fig, ax = plt.subplots(figsize = (8,7), subplot_kw={'projection': ccrs.PlateCarree()})\n",
    "ax.scatter(Longitude, Latitude, marker = 'o', color = 'orange', edgecolor = 'black')\n",
    "#ax.set_title('Core locations')\n",
    "ax.set_xlim(BBox[0],BBox[1])\n",
    "ax.set_ylim(BBox[2],BBox[3])\n",
    "ax.coastlines()\n",
    "ax.add_feature(cfeature.OCEAN, color = 'lightblue')\n",
    "ax.set_xticks([-80, -60, -40, -20, 0], crs=ccrs.PlateCarree())\n",
    "ax.set_yticks([20, 40, 60, 80], crs=ccrs.PlateCarree())\n",
    "ax.xaxis.set_major_formatter(LONGITUDE_FORMATTER)\n",
    "ax.yaxis.set_major_formatter(LATITUDE_FORMATTER)\n",
    "ax.plot(extent = BBox)\n",
    "\n",
    "#plt.savefig('Map_core_locations.png')"
   ]
  },
  {
   "cell_type": "code",
   "execution_count": null,
   "metadata": {},
   "outputs": [],
   "source": []
  }
 ],
 "metadata": {
  "kernelspec": {
   "display_name": "Python 3",
   "language": "python",
   "name": "python3"
  },
  "language_info": {
   "codemirror_mode": {
    "name": "ipython",
    "version": 3
   },
   "file_extension": ".py",
   "mimetype": "text/x-python",
   "name": "python",
   "nbconvert_exporter": "python",
   "pygments_lexer": "ipython3",
   "version": "3.8.3"
  }
 },
 "nbformat": 4,
 "nbformat_minor": 4
}
